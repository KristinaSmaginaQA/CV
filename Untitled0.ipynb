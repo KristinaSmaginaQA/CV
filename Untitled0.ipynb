{
  "nbformat": 4,
  "nbformat_minor": 0,
  "metadata": {
    "colab": {
      "provenance": [],
      "authorship_tag": "ABX9TyNTVFef1FkKDNYnXuXx9BqR",
      "include_colab_link": true
    },
    "kernelspec": {
      "name": "python3",
      "display_name": "Python 3"
    },
    "language_info": {
      "name": "python"
    }
  },
  "cells": [
    {
      "cell_type": "markdown",
      "metadata": {
        "id": "view-in-github",
        "colab_type": "text"
      },
      "source": [
        "<a href=\"https://colab.research.google.com/github/KristinaSmaginaQA/CV/blob/main/Untitled0.ipynb\" target=\"_parent\"><img src=\"https://colab.research.google.com/assets/colab-badge.svg\" alt=\"Open In Colab\"/></a>"
      ]
    },
    {
      "cell_type": "code",
      "execution_count": 1,
      "metadata": {
        "colab": {
          "base_uri": "https://localhost:8080/"
        },
        "id": "FtzNrrcyE5rD",
        "outputId": "a1674927-b1b5-497b-8d4a-03ceb1e489d4"
      },
      "outputs": [
        {
          "output_type": "stream",
          "name": "stdout",
          "text": [
            "Collecting pyTelegramBotAPI\n",
            "  Downloading pyTelegramBotAPI-4.14.1.tar.gz (244 kB)\n",
            "\u001b[?25l     \u001b[90m━━━━━━━━━━━━━━━━━━━━━━━━━━━━━━━━━━━━━━━━\u001b[0m \u001b[32m0.0/244.2 kB\u001b[0m \u001b[31m?\u001b[0m eta \u001b[36m-:--:--\u001b[0m\r\u001b[2K     \u001b[91m━━━━━━━━━━━━━━━\u001b[0m\u001b[90m╺\u001b[0m\u001b[90m━━━━━━━━━━━━━━━━━━━━━━━━\u001b[0m \u001b[32m92.2/244.2 kB\u001b[0m \u001b[31m2.7 MB/s\u001b[0m eta \u001b[36m0:00:01\u001b[0m\r\u001b[2K     \u001b[90m━━━━━━━━━━━━━━━━━━━━━━━━━━━━━━━━━━━━━━━━\u001b[0m \u001b[32m244.2/244.2 kB\u001b[0m \u001b[31m4.3 MB/s\u001b[0m eta \u001b[36m0:00:00\u001b[0m\n",
            "\u001b[?25h  Preparing metadata (setup.py) ... \u001b[?25l\u001b[?25hdone\n",
            "Requirement already satisfied: requests in /usr/local/lib/python3.10/dist-packages (from pyTelegramBotAPI) (2.31.0)\n",
            "Requirement already satisfied: charset-normalizer<4,>=2 in /usr/local/lib/python3.10/dist-packages (from requests->pyTelegramBotAPI) (3.3.2)\n",
            "Requirement already satisfied: idna<4,>=2.5 in /usr/local/lib/python3.10/dist-packages (from requests->pyTelegramBotAPI) (3.6)\n",
            "Requirement already satisfied: urllib3<3,>=1.21.1 in /usr/local/lib/python3.10/dist-packages (from requests->pyTelegramBotAPI) (2.0.7)\n",
            "Requirement already satisfied: certifi>=2017.4.17 in /usr/local/lib/python3.10/dist-packages (from requests->pyTelegramBotAPI) (2023.11.17)\n",
            "Building wheels for collected packages: pyTelegramBotAPI\n",
            "  Building wheel for pyTelegramBotAPI (setup.py) ... \u001b[?25l\u001b[?25hdone\n",
            "  Created wheel for pyTelegramBotAPI: filename=pyTelegramBotAPI-4.14.1-py3-none-any.whl size=215662 sha256=94836d15cba6b9070d09cb33a7ec2f85c135aba53593b698741c69d73aa44ef4\n",
            "  Stored in directory: /root/.cache/pip/wheels/81/0e/bd/a68932e0d60008ec3eb11ae056e6d527af5ec9749922cd5a08\n",
            "Successfully built pyTelegramBotAPI\n",
            "Installing collected packages: pyTelegramBotAPI\n",
            "Successfully installed pyTelegramBotAPI-4.14.1\n"
          ]
        }
      ],
      "source": [
        "!pip install pyTelegramBotAPI\n"
      ]
    },
    {
      "cell_type": "code",
      "source": [
        "!pip install Faker"
      ],
      "metadata": {
        "colab": {
          "base_uri": "https://localhost:8080/"
        },
        "id": "q-qlXt-AFHPT",
        "outputId": "a5f0aba7-2dd7-4dcb-ab04-a2d9d0033d91"
      },
      "execution_count": 2,
      "outputs": [
        {
          "output_type": "stream",
          "name": "stdout",
          "text": [
            "Collecting Faker\n",
            "  Downloading Faker-22.0.0-py3-none-any.whl (1.7 MB)\n",
            "\u001b[2K     \u001b[90m━━━━━━━━━━━━━━━━━━━━━━━━━━━━━━━━━━━━━━━━\u001b[0m \u001b[32m1.7/1.7 MB\u001b[0m \u001b[31m8.7 MB/s\u001b[0m eta \u001b[36m0:00:00\u001b[0m\n",
            "\u001b[?25hRequirement already satisfied: python-dateutil>=2.4 in /usr/local/lib/python3.10/dist-packages (from Faker) (2.8.2)\n",
            "Requirement already satisfied: six>=1.5 in /usr/local/lib/python3.10/dist-packages (from python-dateutil>=2.4->Faker) (1.16.0)\n",
            "Installing collected packages: Faker\n",
            "Successfully installed Faker-22.0.0\n"
          ]
        }
      ]
    },
    {
      "cell_type": "code",
      "source": [
        "# подключение библиотек\n",
        "import json\n",
        "from secrets import token_urlsafe\n",
        "\n",
        "from faker import Faker\n",
        "from telebot import TeleBot, types\n",
        "\n",
        "# TODO: вставить свой токен\n",
        "TOKEN = '6835423029:AAF71swrZidiCJ8rrN9Jr6vncQhO4cuAb-c'\n",
        "bot = TeleBot(TOKEN, parse_mode='html')\n",
        "# библиотека для генерации тестовых ФИО\n",
        "# указываем язык - русский\n",
        "faker = Faker('ru_RU')\n",
        "\n",
        "# объект клавиаутры\n",
        "main_menu_reply_markup = types.ReplyKeyboardMarkup(resize_keyboard=True)\n",
        "# первый ряд кнопок\n",
        "main_menu_reply_markup.row(\n",
        "    types.KeyboardButton(text=\"1️⃣\"), types.KeyboardButton(text=\"2️⃣\")\n",
        ")\n",
        "# второй ряд кнопок\n",
        "main_menu_reply_markup.row(\n",
        "    types.KeyboardButton(text=\"5️⃣\"), types.KeyboardButton(text=\"🔟\")\n",
        ")\n",
        "\n",
        "# обработчик команды '/start'\n",
        "@bot.message_handler(commands=['start'])\n",
        "def start_message_handler(message: types.Message):\n",
        "    # отправляем ответ на команду '/start'\n",
        "    # не забываем прикрепить объект клавиатуры к сообщению\n",
        "    bot.send_message(\n",
        "        chat_id=message.chat.id,\n",
        "        text=\"Привет!\\nЭто бот для генерации тестовых пользователей. \"\\\n",
        "        \"Выбери сколько пользователей тебе нужно 👇🏻\",\n",
        "        reply_markup=main_menu_reply_markup\n",
        "    )\n",
        "\n",
        "\n",
        "# обработчик всех остальных сообщений\n",
        "@bot.message_handler()\n",
        "def message_handler(message: types.Message):\n",
        "    # определяем количество тестовых пользователей\n",
        "    # или отправляем ошибку\n",
        "    payload_len = 0\n",
        "    if message.text == \"1️⃣\":\n",
        "        payload_len = 1\n",
        "    elif message.text == \"2️⃣\":\n",
        "        payload_len = 2\n",
        "    elif message.text == \"5️⃣\":\n",
        "        payload_len = 5\n",
        "    elif message.text == \"🔟\":\n",
        "        payload_len = 10\n",
        "    else:\n",
        "        bot.send_message(chat_id=message.chat.id, text=\"Не понимаю тебя :(\")\n",
        "        return\n",
        "\n",
        "    # генерируем тестовые данные для выбранного количества пользователей\n",
        "    # при помощи метода simple_profile\n",
        "    total_payload = []\n",
        "    for _ in range(payload_len):\n",
        "        user_info = faker.simple_profile()\n",
        "        user_info['phone'] = f'+7{faker.msisdn()[3:]}'\n",
        "        # при помощи библиотеки secrets генерируем пароль\n",
        "        user_info['password'] = token_urlsafe(10)\n",
        "        total_payload.append(user_info)\n",
        "\n",
        "    # сериализуем данные в строку\n",
        "    payload_str = json.dumps(\n",
        "        obj=total_payload,\n",
        "        indent=2,\n",
        "        sort_keys=True,\n",
        "        ensure_ascii=False,\n",
        "        default=str\n",
        "    )\n",
        "\n",
        "    # отправляем результат\n",
        "    bot.send_message(\n",
        "        chat_id=message.chat.id,\n",
        "        text=f\"Данные {payload_len} тестовых пользователей:\\n<code>\"\\\n",
        "        f\"{payload_str}</code>\"\n",
        "    )\n",
        "    bot.send_message(\n",
        "        chat_id=message.chat.id,\n",
        "        text=\"Если нужны еще данные, можешь выбрать еще раз 👇🏻\",\n",
        "        reply_markup=main_menu_reply_markup\n",
        "    )\n",
        "\n",
        "\n",
        "# главная функция программы\n",
        "def main():\n",
        "    # запускаем нашего бота\n",
        "    bot.infinity_polling()\n",
        "\n",
        "\n",
        "if __name__ == '__main__':\n",
        "    main()\n"
      ],
      "metadata": {
        "id": "eDSb6GaJFQAG"
      },
      "execution_count": null,
      "outputs": []
    }
  ]
}